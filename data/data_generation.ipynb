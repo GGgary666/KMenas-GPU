{
 "cells": [
  {
   "cell_type": "code",
   "execution_count": 1,
   "metadata": {},
   "outputs": [],
   "source": [
    "from sklearn.datasets import make_classification\n",
    "import numpy as np\n",
    "import time\n",
    "import faiss\n",
    "\n",
    "import torch"
   ]
  },
  {
   "cell_type": "code",
   "execution_count": 2,
   "metadata": {},
   "outputs": [
    {
     "data": {
      "text/plain": [
       "((100, 256), (100,))"
      ]
     },
     "execution_count": 2,
     "metadata": {},
     "output_type": "execute_result"
    }
   ],
   "source": [
    "# X, y = make_classification(\n",
    "#     n_samples=100000, n_features=4, n_classes=4, n_clusters_per_class=2, random_state=1024, n_informative=4, n_redundant = 0\n",
    "# )\n",
    "features = 256\n",
    "clusters = 256\n",
    "X, y = make_classification(\n",
    "    n_samples=100, n_features=features, n_classes=2, random_state=1024, n_informative=features, n_redundant=0, n_clusters_per_class = 1\n",
    ")\n",
    "X.shape, y.shape"
   ]
  },
  {
   "cell_type": "code",
   "execution_count": 3,
   "metadata": {},
   "outputs": [],
   "source": [
    "xy = np.concatenate((X, y.reshape(-1, 1)), axis=1)\n",
    "# np.savetxt(\"test_clusters_\" + str(clusters) + \".csv\", xy, delimiter=\",\")\n",
    "np.savetxt(\"test_samples.csv\", xy, delimiter=\",\")"
   ]
  },
  {
   "cell_type": "code",
   "execution_count": 137,
   "metadata": {},
   "outputs": [
    {
     "name": "stdout",
     "output_type": "stream",
     "text": [
      "used 50 iterations (17.7545s) to cluster 100000 items into 256 clusters\n",
      "KMeans fit time: 17754.658460617065 ms\n"
     ]
    }
   ],
   "source": [
    "from fast_pytorch_kmeans import KMeans\n",
    "\n",
    "kmeans = KMeans(n_clusters=clusters, mode='euclidean', verbose=1, tol = -1, max_iter=50)\n",
    "x = torch.from_numpy(X).to(\"cuda\")\n",
    "\n",
    "start_time = time.time()\n",
    "labels = kmeans.fit_predict(x)\n",
    "# 记录结束时间\n",
    "end_time = time.time()\n",
    "\n",
    "# 计算并输出fit方法所需的时间\n",
    "fit_time = end_time - start_time\n",
    "print(f\"KMeans fit time: {fit_time * 1000} ms\")"
   ]
  },
  {
   "cell_type": "code",
   "execution_count": 138,
   "metadata": {},
   "outputs": [
    {
     "name": "stdout",
     "output_type": "stream",
     "text": [
      "Clustering 100000 points in 1024D to 256 clusters, redo 1 times, 50 iterations\n",
      "  Preprocessing in 0.04 s\n",
      "KMeans fit time: 3554.8036098480225 ms: objective=3.40156e+10 imbalance=1.259 nsplit=0       \n",
      "\n"
     ]
    }
   ],
   "source": [
    "d = X.shape[1]\n",
    "clus = faiss.Clustering(d, clusters)\n",
    "clus.verbose = True\n",
    "clus.niter = 50\n",
    "# otherwise the kmeans implementation sub-samples the training set\n",
    "clus.max_points_per_centroid = 10**9\n",
    "cfg = faiss.GpuIndexFlatConfig()\n",
    "cfg.useFloat16 = False\n",
    "cfg.device = 0\n",
    "index = faiss.GpuIndexFlatL2(faiss.StandardGpuResources(), d, cfg)\n",
    "start_time = time.time()\n",
    "clus.train(X, index)\n",
    "# 记录结束时间\n",
    "end_time = time.time()\n",
    "#计算并输出fit方法所需的时间\n",
    "fit_time = end_time - start_time\n",
    "print(f\"KMeans fit time: {fit_time * 1000} ms\")"
   ]
  },
  {
   "cell_type": "code",
   "execution_count": 134,
   "metadata": {},
   "outputs": [],
   "source": [
    "# ncentroids = clusters\n",
    "# niter = 50\n",
    "# verbose = True\n",
    "# d = X.shape[1]\n",
    "# kmeans = faiss.Kmeans(d, ncentroids, niter=niter, verbose=verbose, nredo = 1, gpu=True)\n",
    "# kmeans.max_points_per_centroid = 10**9\n",
    "# start_time = time.time()\n",
    "# kmeans.train(X)\n",
    "# # 记录结束时间\n",
    "# end_time = time.time()\n",
    "# # 计算并输出fit方法所需的时间\n",
    "# fit_time = end_time - start_time\n",
    "# print(f\"KMeans fit time: {fit_time * 1000} ms\")"
   ]
  },
  {
   "cell_type": "code",
   "execution_count": null,
   "metadata": {},
   "outputs": [],
   "source": []
  }
 ],
 "metadata": {
  "kernelspec": {
   "display_name": "dl",
   "language": "python",
   "name": "python3"
  },
  "language_info": {
   "codemirror_mode": {
    "name": "ipython",
    "version": 3
   },
   "file_extension": ".py",
   "mimetype": "text/x-python",
   "name": "python",
   "nbconvert_exporter": "python",
   "pygments_lexer": "ipython3",
   "version": "3.10.13"
  }
 },
 "nbformat": 4,
 "nbformat_minor": 2
}
